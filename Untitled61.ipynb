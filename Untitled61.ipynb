{
 "cells": [
  {
   "cell_type": "code",
   "execution_count": 2,
   "id": "31ff6f7c-91fe-4f9f-bd6e-0e213a6d9e5b",
   "metadata": {},
   "outputs": [
    {
     "name": "stdout",
     "output_type": "stream",
     "text": [
      "Name: Alice, Age: 30\n",
      "Name: Bob, Age: 25\n"
     ]
    }
   ],
   "source": [
    "class Person:\n",
    "    def __init__(self, name, age):\n",
    "        # Constructor to initialize attributes\n",
    "        self.name = name\n",
    "        self.age = age\n",
    "\n",
    "    def display(self):\n",
    "        # Method to display information about the person\n",
    "        print(f\"Name: {self.name}, Age: {self.age}\")\n",
    "\n",
    "# Creating instances of the Person class using the constructor\n",
    "person1 = Person(\"Alice\", 30)\n",
    "person2 = Person(\"Bob\", 25)\n",
    "\n",
    "# Displaying information about the persons\n",
    "person1.display()  # Output: Name: Alice, Age: 30\n",
    "person2.display()  # Output: Name: Bob, Age: 25\n"
   ]
  },
  {
   "cell_type": "code",
   "execution_count": 4,
   "id": "10d57d33-699d-459e-ae3d-594a9fdd38c6",
   "metadata": {},
   "outputs": [],
   "source": [
    "class MyClass:\n",
    "    def __init__(self, param1, param2):\n",
    "        self.attribute1 = param1\n",
    "        self.attribute2 = param2\n",
    "        \n",
    "        \n"
   ]
  },
  {
   "cell_type": "code",
   "execution_count": 5,
   "id": "c23eb37b-5688-470d-a8ff-3880a75ad2f1",
   "metadata": {},
   "outputs": [
    {
     "name": "stdout",
     "output_type": "stream",
     "text": [
      "value1\n",
      "value2\n"
     ]
    }
   ],
   "source": [
    "class MyClass:\n",
    "    def __init__(self, param1, param2):\n",
    "        # Initialize attributes with parameters passed during object creation\n",
    "        self.param1 = param1\n",
    "        self.param2 = param2\n",
    "\n",
    "# Creating an instance of MyClass and passing values for parameters param1 and param2\n",
    "my_instance = MyClass(\"value1\", \"value2\")\n",
    "\n",
    "# Accessing attributes of the instance created\n",
    "print(my_instance.param1)  # Output: value1\n",
    "print(my_instance.param2)  # Output: value2\n"
   ]
  },
  {
   "cell_type": "code",
   "execution_count": 6,
   "id": "48281b18-8df2-47b8-a988-22344d5ead2e",
   "metadata": {},
   "outputs": [
    {
     "name": "stdout",
     "output_type": "stream",
     "text": [
      "value1\n",
      "value2\n"
     ]
    }
   ],
   "source": [
    "class MyClass:\n",
    "    def __init__(self, param1, param2):\n",
    "        # Constructor to initialize attributes\n",
    "        self.param1 = param1\n",
    "        self.param2 = param2\n",
    "\n",
    "# Creating an instance of MyClass and passing values for parameters param1 and param2\n",
    "my_instance = MyClass(\"value1\", \"value2\")\n",
    "\n",
    "# Accessing attributes of the instance created\n",
    "print(my_instance.param1)  # Output: value1\n",
    "print(my_instance.param2)  # Output: value2\n"
   ]
  },
  {
   "cell_type": "code",
   "execution_count": 7,
   "id": "a2686694-c0ef-4dc9-ab9d-0d17f9ba6a70",
   "metadata": {},
   "outputs": [
    {
     "name": "stdout",
     "output_type": "stream",
     "text": [
      "Name: Roshan\n",
      "Age: 23\n"
     ]
    }
   ],
   "source": [
    "class Person:\n",
    "    def __init__(self, name, age):\n",
    "        # Constructor to initialize attributes\n",
    "        self.name = name\n",
    "        self.age = age\n",
    "\n",
    "# Creating an object of the Person class\n",
    "person1 = Person(\"Roshan\", 23)\n",
    "\n",
    "# Accessing attributes of the instance created\n",
    "print(\"Name:\", person1.name)  # Output: Name: Alice\n",
    "print(\"Age:\", person1.age)    # Output: Age: 30\n"
   ]
  },
  {
   "cell_type": "code",
   "execution_count": 9,
   "id": "07322b61-1a14-4675-9dd3-5f1c3854910b",
   "metadata": {},
   "outputs": [
    {
     "name": "stdout",
     "output_type": "stream",
     "text": [
      "value1\n",
      "value2\n"
     ]
    }
   ],
   "source": [
    "class MyClass:\n",
    "    def __init__(self, param1, param2):\n",
    "        self.param1 = param1\n",
    "        self.param2 = param2\n",
    "\n",
    "# Creating an instance of MyClass and implicitly calling the constructor\n",
    "my_instance = MyClass(\"value1\", \"value2\")\n",
    "\n",
    "# Accessing attributes of the instance created\n",
    "print(my_instance.param1)  # Output: value1\n",
    "print(my_instance.param2)  # Output: value2\n",
    "\n"
   ]
  },
  {
   "cell_type": "code",
   "execution_count": 10,
   "id": "44858938-5702-4510-aec7-5b3989ab15f8",
   "metadata": {},
   "outputs": [
    {
     "name": "stdout",
     "output_type": "stream",
     "text": [
      "param1: value1\n",
      "param2: value2\n"
     ]
    }
   ],
   "source": [
    "class MyClass:\n",
    "    def __init__(self, param1, param2):\n",
    "        # Initialize attributes with parameters passed during object creation\n",
    "        self.param1 = param1\n",
    "        self.param2 = param2\n",
    "\n",
    "    def display_params(self):\n",
    "        # Access and display the attributes of the current instance\n",
    "        print(\"param1:\", self.param1)\n",
    "        print(\"param2:\", self.param2)\n",
    "\n",
    "# Creating an instance of MyClass and passing values for parameters param1 and param2\n",
    "my_instance = MyClass(\"value1\", \"value2\")\n",
    "\n",
    "# Accessing and displaying attributes of the instance created\n",
    "my_instance.display_params()\n"
   ]
  },
  {
   "cell_type": "code",
   "execution_count": 11,
   "id": "b47ea88c-4ffa-4615-90cd-57000004079d",
   "metadata": {},
   "outputs": [
    {
     "name": "stdout",
     "output_type": "stream",
     "text": [
      "default_value1\n",
      "default_value2\n"
     ]
    }
   ],
   "source": [
    "class MyClass:\n",
    "    def __init__(self):\n",
    "        # Default constructor with no parameters\n",
    "        self.attribute1 = \"default_value1\"\n",
    "        self.attribute2 = \"default_value2\"\n",
    "\n",
    "# Creating an instance of MyClass using the default constructor\n",
    "my_instance = MyClass()\n",
    "\n",
    "# Accessing attributes of the instance created\n",
    "print(my_instance.attribute1)  # Output: default_value1\n",
    "print(my_instance.attribute2)  # Output: default_value2\n"
   ]
  },
  {
   "cell_type": "code",
   "execution_count": 13,
   "id": "95be8bec-29cd-4f73-8fa0-c41a84b3fc68",
   "metadata": {},
   "outputs": [
    {
     "name": "stdout",
     "output_type": "stream",
     "text": [
      "Area of the rectangle: 520\n"
     ]
    }
   ],
   "source": [
    "class Rectangle:\n",
    "    def __init__(self, width, height):\n",
    "        # Constructor to initialize attributes\n",
    "        self.width = width\n",
    "        self.height = height\n",
    "\n",
    "    def calculate_area(self):\n",
    "        # Method to calculate the area of the rectangle\n",
    "        return self.width * self.height\n",
    "\n",
    "# Creating an instance of Rectangle and passing values for width and height\n",
    "my_rectangle = Rectangle(13,40)\n",
    "\n",
    "# Calculating and printing the area of the rectangle\n",
    "area = my_rectangle.calculate_area()\n",
    "print(\"Area of the rectangle:\", area)\n"
   ]
  },
  {
   "cell_type": "code",
   "execution_count": 14,
   "id": "cf83f736-941b-456b-89e1-4cea54d1835b",
   "metadata": {},
   "outputs": [
    {
     "name": "stdout",
     "output_type": "stream",
     "text": [
      "Area of rectangle1: 50\n",
      "Area of rectangle2: 25\n",
      "Area of rectangle3: 0\n"
     ]
    }
   ],
   "source": [
    "class Rectangle:\n",
    "    def __init__(self, width=None, height=None):\n",
    "        if width is not None and height is not None:\n",
    "            # Constructor with width and height parameters\n",
    "            self.width = width\n",
    "            self.height = height\n",
    "        elif width is not None:\n",
    "            # Constructor with only width parameter\n",
    "            self.width = width\n",
    "            self.height = width  # Square if only width is provided\n",
    "        else:\n",
    "            # Default constructor with no parameters\n",
    "            self.width = 0\n",
    "            self.height = 0\n",
    "\n",
    "    def calculate_area(self):\n",
    "        # Method to calculate the area of the rectangle\n",
    "        return self.width * self.height\n",
    "\n",
    "# Creating instances of Rectangle using different constructors\n",
    "rectangle1 = Rectangle(5, 10)  # Passing width and height\n",
    "rectangle2 = Rectangle(5)       # Passing only width (creates a square)\n",
    "rectangle3 = Rectangle()        # Default constructor\n",
    "\n",
    "# Calculating and printing the areas of the rectangles\n",
    "print(\"Area of rectangle1:\", rectangle1.calculate_area())  # Output: 50\n",
    "print(\"Area of rectangle2:\", rectangle2.calculate_area())  # Output: 25 (since it's a square)\n",
    "print(\"Area of rectangle3:\", rectangle3.calculate_area())  # Output: 0 (default constructor)\n"
   ]
  },
  {
   "cell_type": "code",
   "execution_count": 15,
   "id": "376ddb2b-042a-47b2-9b45-233c4238007e",
   "metadata": {},
   "outputs": [
    {
     "name": "stdout",
     "output_type": "stream",
     "text": [
      "value1 value2\n",
      "value1 default_value\n",
      "default_value1 default_value2\n"
     ]
    }
   ],
   "source": [
    "class MyClass:\n",
    "    def __init__(self, param1=None, param2=None):\n",
    "        if param1 is not None and param2 is not None:\n",
    "            # Constructor with two parameters\n",
    "            self.param1 = param1\n",
    "            self.param2 = param2\n",
    "        elif param1 is not None:\n",
    "            # Constructor with one parameter\n",
    "            self.param1 = param1\n",
    "            self.param2 = \"default_value\"  # Default value for param2\n",
    "        else:\n",
    "            # Default constructor\n",
    "            self.param1 = \"default_value1\"\n",
    "            self.param2 = \"default_value2\"\n",
    "\n",
    "# Creating instances of MyClass using different constructors\n",
    "obj1 = MyClass(\"value1\", \"value2\")  # Passing two parameters\n",
    "obj2 = MyClass(\"value1\")            # Passing one parameter\n",
    "obj3 = MyClass()                    # Default constructor\n",
    "\n",
    "# Accessing attributes of the instances created\n",
    "print(obj1.param1, obj1.param2)  # Output: value1 value2\n",
    "print(obj2.param1, obj2.param2)  # Output: value1 default_value\n",
    "print(obj3.param1, obj3.param2)  # Output: default_value1 default_value2\n"
   ]
  },
  {
   "cell_type": "code",
   "execution_count": 16,
   "id": "679407ba-6fa1-4a58-8726-fdef3bd56a2b",
   "metadata": {},
   "outputs": [
    {
     "name": "stdout",
     "output_type": "stream",
     "text": [
      "ParentClass constructor called with param: value1\n",
      "ChildClass constructor called with param2: value2\n"
     ]
    }
   ],
   "source": [
    "class ParentClass:\n",
    "    def __init__(self, param):\n",
    "        self.param = param\n",
    "        print(\"ParentClass constructor called with param:\", self.param)\n",
    "\n",
    "class ChildClass(ParentClass):\n",
    "    def __init__(self, param1, param2):\n",
    "        # Calling the constructor of the parent class using super()\n",
    "        super().__init__(param1)\n",
    "        self.param2 = param2\n",
    "        print(\"ChildClass constructor called with param2:\", self.param2)\n",
    "\n",
    "# Creating an instance of ChildClass\n",
    "child_instance = ChildClass(\"value1\", \"value2\")\n"
   ]
  },
  {
   "cell_type": "code",
   "execution_count": 17,
   "id": "d663a3d0-c396-4cec-b6c0-7c43216f088b",
   "metadata": {},
   "outputs": [
    {
     "name": "stdout",
     "output_type": "stream",
     "text": [
      "Title: Python Programming\n",
      "Author: John Doe\n",
      "Published Year: 2021\n"
     ]
    }
   ],
   "source": [
    "class Book:\n",
    "    def __init__(self, title, author, published_year):\n",
    "        # Constructor to initialize attributes\n",
    "        self.title = title\n",
    "        self.author = author\n",
    "        self.published_year = published_year\n",
    "\n",
    "    def display_details(self):\n",
    "        # Method to display book details\n",
    "        print(\"Title:\", self.title)\n",
    "        print(\"Author:\", self.author)\n",
    "        print(\"Published Year:\", self.published_year)\n",
    "\n",
    "# Creating an instance of Book and passing values for attributes\n",
    "book1 = Book(\"Python Programming\", \"John Doe\", 2021)\n",
    "\n",
    "# Displaying details of the book\n",
    "book1.display_details()\n"
   ]
  },
  {
   "cell_type": "code",
   "execution_count": 19,
   "id": "023fdcc1-737f-4d63-881c-316ffe646d1a",
   "metadata": {},
   "outputs": [],
   "source": [
    "#constructors\n",
    "class Car:\n",
    "    def __init__(self, make, model, year):\n",
    "        self.make = make\n",
    "        self.model = model\n",
    "        self.year = year\n",
    "\n",
    "# Creating an instance of Car\n",
    "my_car = Car(\"Toyota\", \"Camry\", 2020)\n"
   ]
  },
  {
   "cell_type": "code",
   "execution_count": 20,
   "id": "573c6121-1126-40b1-8a71-74db9d6f945d",
   "metadata": {},
   "outputs": [
    {
     "name": "stdout",
     "output_type": "stream",
     "text": [
      "Car: Toyota Camry, Year: 2020\n"
     ]
    }
   ],
   "source": [
    "#Regular method\n",
    "class Car:\n",
    "    def __init__(self, make, model, year):\n",
    "        self.make = make\n",
    "        self.model = model\n",
    "        self.year = year\n",
    "    \n",
    "    def display_info(self):\n",
    "        print(f\"Car: {self.make} {self.model}, Year: {self.year}\")\n",
    "\n",
    "# Creating an instance of Car\n",
    "my_car = Car(\"Toyota\", \"Camry\", 2020)\n",
    "my_car.display_info()  # Output: Car: Toyota Camry, Year: 2020\n"
   ]
  },
  {
   "cell_type": "code",
   "execution_count": 21,
   "id": "807014b3-8d58-4909-b883-3bbca19d5cf0",
   "metadata": {},
   "outputs": [
    {
     "name": "stdout",
     "output_type": "stream",
     "text": [
      "Toyota\n",
      "Honda\n"
     ]
    }
   ],
   "source": [
    "class Car:\n",
    "    def __init__(self, make, model, year):\n",
    "        self.make = make\n",
    "        self.model = model\n",
    "        self.year = year\n",
    "\n",
    "# Creating two instances of Car\n",
    "car1 = Car(\"Toyota\", \"Camry\", 2020)\n",
    "car2 = Car(\"Honda\", \"Accord\", 2018)\n",
    "\n",
    "print(car1.make)  # Output: Toyota\n",
    "print(car2.make)  # Output: Honda\n"
   ]
  },
  {
   "cell_type": "code",
   "execution_count": 23,
   "id": "21bbc918-7b88-4a15-802d-4a7d7ea1e3dc",
   "metadata": {},
   "outputs": [
    {
     "ename": "TypeError",
     "evalue": "object.__new__() takes exactly one argument (the type to instantiate)",
     "output_type": "error",
     "traceback": [
      "\u001b[1;31m---------------------------------------------------------------------------\u001b[0m",
      "\u001b[1;31mTypeError\u001b[0m                                 Traceback (most recent call last)",
      "Cell \u001b[1;32mIn[23], line 15\u001b[0m\n\u001b[0;32m     12\u001b[0m             \u001b[38;5;28mself\u001b[39m\u001b[38;5;241m.\u001b[39minitialized \u001b[38;5;241m=\u001b[39m \u001b[38;5;28;01mTrue\u001b[39;00m  \u001b[38;5;66;03m# Mark initialization as complete\u001b[39;00m\n\u001b[0;32m     14\u001b[0m \u001b[38;5;66;03m# Usage\u001b[39;00m\n\u001b[1;32m---> 15\u001b[0m singleton1 \u001b[38;5;241m=\u001b[39m Singleton(\u001b[38;5;124m\"\u001b[39m\u001b[38;5;124mInstance 1 data\u001b[39m\u001b[38;5;124m\"\u001b[39m)  \u001b[38;5;66;03m# Create the first instance\u001b[39;00m\n\u001b[0;32m     16\u001b[0m singleton2 \u001b[38;5;241m=\u001b[39m Singleton(\u001b[38;5;124m\"\u001b[39m\u001b[38;5;124mInstance 2 data\u001b[39m\u001b[38;5;124m\"\u001b[39m)  \u001b[38;5;66;03m# Attempt to create another instance\u001b[39;00m\n\u001b[0;32m     18\u001b[0m \u001b[38;5;28mprint\u001b[39m(singleton1\u001b[38;5;241m.\u001b[39mdata)  \u001b[38;5;66;03m# Output: Instance 1 data\u001b[39;00m\n",
      "Cell \u001b[1;32mIn[23], line 6\u001b[0m, in \u001b[0;36mSingleton.__new__\u001b[1;34m(cls, *args, **kwargs)\u001b[0m\n\u001b[0;32m      4\u001b[0m \u001b[38;5;28;01mdef\u001b[39;00m \u001b[38;5;21m__new__\u001b[39m(\u001b[38;5;28mcls\u001b[39m, \u001b[38;5;241m*\u001b[39margs, \u001b[38;5;241m*\u001b[39m\u001b[38;5;241m*\u001b[39mkwargs):\n\u001b[0;32m      5\u001b[0m     \u001b[38;5;28;01mif\u001b[39;00m \u001b[38;5;129;01mnot\u001b[39;00m \u001b[38;5;28mcls\u001b[39m\u001b[38;5;241m.\u001b[39m_instance:  \u001b[38;5;66;03m# If _instance is None (indicating no instance has been created yet)\u001b[39;00m\n\u001b[1;32m----> 6\u001b[0m         \u001b[38;5;28mcls\u001b[39m\u001b[38;5;241m.\u001b[39m_instance \u001b[38;5;241m=\u001b[39m \u001b[38;5;28msuper\u001b[39m()\u001b[38;5;241m.\u001b[39m\u001b[38;5;21m__new__\u001b[39m(\u001b[38;5;28mcls\u001b[39m, \u001b[38;5;241m*\u001b[39margs, \u001b[38;5;241m*\u001b[39m\u001b[38;5;241m*\u001b[39mkwargs)  \u001b[38;5;66;03m# Create a new instance\u001b[39;00m\n\u001b[0;32m      7\u001b[0m     \u001b[38;5;28;01mreturn\u001b[39;00m \u001b[38;5;28mcls\u001b[39m\u001b[38;5;241m.\u001b[39m_instance\n",
      "\u001b[1;31mTypeError\u001b[0m: object.__new__() takes exactly one argument (the type to instantiate)"
     ]
    }
   ],
   "source": [
    "class Singleton:\n",
    "    _instance = None  # Class variable to store the single instance\n",
    "    \n",
    "    def __new__(cls, *args, **kwargs):\n",
    "        if not cls._instance:  # If _instance is None (indicating no instance has been created yet)\n",
    "            cls._instance = super().__new__(cls, *args, **kwargs)  # Create a new instance\n",
    "        return cls._instance  # Return the single instance\n",
    "    \n",
    "    def __init__(self, data):\n",
    "        if not hasattr(self, 'initialized'):  # Check if initialization has already been performed\n",
    "            self.data = data  # Initialize instance variable\n",
    "            self.initialized = True  # Mark initialization as complete\n",
    "\n",
    "# Usage\n",
    "singleton1 = Singleton(\"Instance 1 data\")  # Create the first instance\n",
    "singleton2 = Singleton(\"Instance 2 data\")  # Attempt to create another instance\n",
    "\n",
    "print(singleton1.data)  # Output: Instance 1 data\n",
    "print(singleton2.data)  # Output: Instance 1 data (same as singleton1)\n",
    "print(singleton1 is singleton2)  # Output: True (same object)\n",
    "\n"
   ]
  },
  {
   "cell_type": "code",
   "execution_count": 24,
   "id": "77e7e588-0f91-4151-9202-132c1d9b29dd",
   "metadata": {},
   "outputs": [
    {
     "name": "stdout",
     "output_type": "stream",
     "text": [
      "['Math', 'Science', 'History']\n"
     ]
    }
   ],
   "source": [
    "class Student:\n",
    "    def __init__(self, subjects):\n",
    "        self.subjects = subjects\n",
    "\n",
    "# Example usage:\n",
    "subjects_list = [\"Math\", \"Science\", \"History\"]\n",
    "student1 = Student(subjects_list)\n",
    "\n",
    "# Accessing the subjects attribute of student1\n",
    "print(student1.subjects)  # Output: [\"Math\", \"Science\", \"History\"]\n"
   ]
  },
  {
   "cell_type": "code",
   "execution_count": 25,
   "id": "1e363f55-56a6-4c79-bba2-a83aa542cb10",
   "metadata": {},
   "outputs": [
    {
     "name": "stdout",
     "output_type": "stream",
     "text": [
      "Object created\n",
      "Object deleted\n"
     ]
    }
   ],
   "source": [
    "class MyClass:\n",
    "    def __init__(self, name):\n",
    "        self.name = name\n",
    "        print(f\"{self.name} created\")\n",
    "    \n",
    "    def __del__(self):\n",
    "        print(f\"{self.name} deleted\")\n",
    "\n",
    "# Creating an instance of MyClass\n",
    "obj = MyClass(\"Object\")\n",
    "\n",
    "# Deleting the object explicitly\n",
    "del obj  # Output: Object deleted\n"
   ]
  },
  {
   "cell_type": "code",
   "execution_count": 26,
   "id": "33c6aacb-b7a9-4d24-b73a-15a8e0a3b31f",
   "metadata": {},
   "outputs": [
    {
     "name": "stdout",
     "output_type": "stream",
     "text": [
      "John\n",
      "30\n",
      "E123\n"
     ]
    }
   ],
   "source": [
    "class Person:\n",
    "    def __init__(self, name, age):\n",
    "        self.name = name\n",
    "        self.age = age\n",
    "\n",
    "class Employee(Person):\n",
    "    def __init__(self, name, age, emp_id):\n",
    "        super().__init__(name, age)  # Call the constructor of the superclass\n",
    "        self.emp_id = emp_id\n",
    "\n",
    "# Creating an instance of Employee\n",
    "employee = Employee(\"John\", 30, \"E123\")\n",
    "\n",
    "# Accessing attributes\n",
    "print(employee.name)   # Output: John\n",
    "print(employee.age)    # Output: 30\n",
    "print(employee.emp_id) # Output: E123\n"
   ]
  },
  {
   "cell_type": "markdown",
   "id": "85e1b5ae-3e27-449a-a9f0-885ce324254b",
   "metadata": {},
   "source": [
    "class Car:\n",
    "    def __init__(self, make, model):\n",
    "        self.make = make\n",
    "        self.model = model\n",
    "\n",
    "    def display_info(self):\n",
    "        print(f\"Make: {self.make}, Model: {self.model}\")\n",
    "\n",
    "# Example usage:\n",
    "my_car = Car(\"Toyota\", \"Camry\")\n",
    "my_car.display_info()  # Output: Make: Toyota, Model: Camry\n",
    "\n"
   ]
  },
  {
   "cell_type": "markdown",
   "id": "998f1978-df57-492d-b088-cdd4754ca4bb",
   "metadata": {},
   "source": [
    "Inheritance:\n"
   ]
  },
  {
   "cell_type": "code",
   "execution_count": 28,
   "id": "e29214a3-4fc7-4aea-970e-575148e19352",
   "metadata": {},
   "outputs": [
    {
     "name": "stdout",
     "output_type": "stream",
     "text": [
      "Make: Toyota, Model: Camry\n",
      "Color: Blue\n"
     ]
    }
   ],
   "source": [
    "class Vehicle:\n",
    "    def __init__(self, make, model):\n",
    "        self.make = make\n",
    "        self.model = model\n",
    "\n",
    "    def display_info(self):\n",
    "        print(f\"Make: {self.make}, Model: {self.model}\")\n",
    "\n",
    "class Car(Vehicle):\n",
    "    def __init__(self, make, model, color):\n",
    "        super().__init__(make, model)\n",
    "        self.color = color\n",
    "\n",
    "    def display_info(self):\n",
    "        super().display_info()\n",
    "        print(f\"Color: {self.color}\")\n",
    "\n",
    "# Creating an instance of Car\n",
    "my_car = Car(\"Toyota\", \"Camry\", \"Blue\")\n",
    "\n",
    "# Accessing inherited attributes and methods\n",
    "my_car.display_info()\n"
   ]
  },
  {
   "cell_type": "code",
   "execution_count": 29,
   "id": "b2f94321-c4c5-427c-af73-87c64750adaa",
   "metadata": {},
   "outputs": [
    {
     "name": "stdout",
     "output_type": "stream",
     "text": [
      "Dog barks\n",
      "Animal speaks\n"
     ]
    }
   ],
   "source": [
    "#single Inheritance\n",
    "class Animal:\n",
    "    def speak(self):\n",
    "        print(\"Animal speaks\")\n",
    "\n",
    "class Dog(Animal):\n",
    "    def bark(self):\n",
    "        print(\"Dog barks\")\n",
    "\n",
    "# Creating an instance of Dog\n",
    "my_dog = Dog()\n",
    "my_dog.bark()  # Output: Dog barks\n",
    "my_dog.speak() # Output: Animal speaks\n"
   ]
  },
  {
   "cell_type": "code",
   "execution_count": 30,
   "id": "05e5c043-e12d-41cd-9ccf-c60aa16000a5",
   "metadata": {},
   "outputs": [
    {
     "name": "stdout",
     "output_type": "stream",
     "text": [
      "Dog barks\n",
      "Bird flies\n",
      "Pet plays\n"
     ]
    }
   ],
   "source": [
    "#multiple Inheritance\n",
    "class Bird:\n",
    "    def fly(self):\n",
    "        print(\"Bird flies\")\n",
    "\n",
    "class Dog:\n",
    "    def bark(self):\n",
    "        print(\"Dog barks\")\n",
    "\n",
    "class Pet(Dog, Bird):\n",
    "    def play(self):\n",
    "        print(\"Pet plays\")\n",
    "\n",
    "# Creating an instance of Pet\n",
    "my_pet = Pet()\n",
    "my_pet.bark()  # Output: Dog barks\n",
    "my_pet.fly()   # Output: Bird flies\n",
    "my_pet.play()  # Output: Pet plays\n"
   ]
  },
  {
   "cell_type": "code",
   "execution_count": 31,
   "id": "60e3cbaa-5b3c-4663-ba41-c4bf7a1536de",
   "metadata": {},
   "outputs": [
    {
     "name": "stdout",
     "output_type": "stream",
     "text": [
      "Color: Red\n",
      "Speed: 120\n",
      "Brand: Toyota\n"
     ]
    }
   ],
   "source": [
    "class Vehicle:\n",
    "    def __init__(self, color, speed):\n",
    "        self.color = color\n",
    "        self.speed = speed\n",
    "\n",
    "class Car(Vehicle):\n",
    "    def __init__(self, color, speed, brand):\n",
    "        super().__init__(color, speed)\n",
    "        self.brand = brand\n",
    "\n",
    "# Example of creating a Car object\n",
    "my_car = Car(\"Red\", 120, \"Toyota\")\n",
    "\n",
    "# Accessing attributes of the Car object\n",
    "print(\"Color:\", my_car.color)   # Output: Red\n",
    "print(\"Speed:\", my_car.speed)   # Output: 120\n",
    "print(\"Brand:\", my_car.brand)   # Output: Toyota\n"
   ]
  },
  {
   "cell_type": "code",
   "execution_count": 32,
   "id": "6b8c01bd-a0c0-431e-832b-626ad45eca52",
   "metadata": {},
   "outputs": [
    {
     "name": "stdout",
     "output_type": "stream",
     "text": [
      "Dog barks\n"
     ]
    }
   ],
   "source": [
    "class Animal:\n",
    "    def speak(self):\n",
    "        print(\"Animal speaks\")\n",
    "\n",
    "class Dog(Animal):\n",
    "    def speak(self):\n",
    "        print(\"Dog barks\")\n",
    "\n",
    "# Creating an instance of Dog\n",
    "my_dog = Dog()\n",
    "\n",
    "# Calling the speak method\n",
    "my_dog.speak()  # Output: Dog barks\n"
   ]
  },
  {
   "cell_type": "code",
   "execution_count": 33,
   "id": "6161b9b5-65f1-4cdf-83c5-e563bd5ddd7f",
   "metadata": {},
   "outputs": [
    {
     "name": "stdout",
     "output_type": "stream",
     "text": [
      "This is a method from the Child class\n",
      "This is a method from the Parent class\n",
      "Parent attribute: Parent Attribute Value\n"
     ]
    }
   ],
   "source": [
    "class Parent:\n",
    "    def __init__(self, parent_attr):\n",
    "        self.parent_attr = parent_attr\n",
    "    \n",
    "    def parent_method(self):\n",
    "        print(\"This is a method from the Parent class\")\n",
    "\n",
    "class Child(Parent):\n",
    "    def __init__(self, parent_attr, child_attr):\n",
    "        super().__init__(parent_attr)\n",
    "        self.child_attr = child_attr\n",
    "\n",
    "    def child_method(self):\n",
    "        print(\"This is a method from the Child class\")\n",
    "\n",
    "    def access_parent_method(self):\n",
    "        super().parent_method()  # Accessing parent method using super()\n",
    "        # Alternatively, you can also use Parent.parent_method(self)\n",
    "        # Parent.parent_method(self)  \n",
    "        \n",
    "    def access_parent_attr(self):\n",
    "        print(\"Parent attribute:\", self.parent_attr)\n",
    "\n",
    "# Create an instance of the Child class\n",
    "child_obj = Child(\"Parent Attribute Value\", \"Child Attribute Value\")\n",
    "\n",
    "# Accessing methods and attributes of the Child class\n",
    "child_obj.child_method()           # Output: This is a method from the Child class\n",
    "child_obj.access_parent_method()   # Output: This is a method from the Parent class\n",
    "child_obj.access_parent_attr()     # Output: Parent attribute: Parent Attribute Value\n"
   ]
  },
  {
   "cell_type": "code",
   "execution_count": 34,
   "id": "9facf405-8d93-4c0a-9bcb-bc5c2f3458fc",
   "metadata": {},
   "outputs": [
    {
     "name": "stdout",
     "output_type": "stream",
     "text": [
      "Species: Canine\n",
      "Animal speaks\n",
      "Dog barks\n"
     ]
    }
   ],
   "source": [
    "class Animal:\n",
    "    def __init__(self, species):\n",
    "        self.species = species\n",
    "\n",
    "    def speak(self):\n",
    "        print(\"Animal speaks\")\n",
    "\n",
    "class Dog(Animal):\n",
    "    def __init__(self, species, breed):\n",
    "        super().__init__(species)  # Call the superclass constructor\n",
    "        self.breed = breed\n",
    "\n",
    "    def speak(self):\n",
    "        super().speak()  # Call the superclass method\n",
    "        print(\"Dog barks\")\n",
    "\n",
    "# Creating an instance of Dog\n",
    "my_dog = Dog(\"Canine\", \"Labrador\")\n",
    "\n",
    "# Accessing attributes and methods\n",
    "print(\"Species:\", my_dog.species)  # Output: Species: Canine\n",
    "my_dog.speak()                      # Output: Animal speaks\n",
    "                                    #         Dog barks\n"
   ]
  },
  {
   "cell_type": "code",
   "execution_count": 35,
   "id": "4b110c2a-196b-4c0d-8b7b-ab6fcfff52d9",
   "metadata": {},
   "outputs": [
    {
     "name": "stdout",
     "output_type": "stream",
     "text": [
      "Dog says: Woof!\n",
      "Cat says: Meow!\n"
     ]
    }
   ],
   "source": [
    "class Animal:\n",
    "    def speak(self):\n",
    "        pass  # Placeholder method to be overridden in subclasses\n",
    "\n",
    "class Dog(Animal):\n",
    "    def speak(self):\n",
    "        return \"Woof!\"\n",
    "\n",
    "class Cat(Animal):\n",
    "    def speak(self):\n",
    "        return \"Meow!\"\n",
    "\n",
    "# Example usage\n",
    "dog = Dog()\n",
    "print(\"Dog says:\", dog.speak())  # Output: Dog says: Woof!\n",
    "\n",
    "cat = Cat()\n",
    "print(\"Cat says:\", cat.speak())  # Output: Cat says: Meow!\n"
   ]
  },
  {
   "cell_type": "code",
   "execution_count": 36,
   "id": "b6625be2-9fa2-4354-ba3b-c5e4ba153f22",
   "metadata": {},
   "outputs": [
    {
     "name": "stdout",
     "output_type": "stream",
     "text": [
      "True\n",
      "True\n",
      "False\n",
      "True\n"
     ]
    }
   ],
   "source": [
    "class Animal:\n",
    "    pass\n",
    "\n",
    "class Dog(Animal):\n",
    "    pass\n",
    "\n",
    "class Cat(Animal):\n",
    "    pass\n",
    "\n",
    "class Bird:\n",
    "    pass\n",
    "\n",
    "# Instantiate objects\n",
    "dog = Dog()\n",
    "cat = Cat()\n",
    "bird = Bird()\n",
    "\n",
    "# Check if objects are instances of specific classes or subclasses\n",
    "print(isinstance(dog, Animal))  # Output: True\n",
    "print(isinstance(cat, Animal))  # Output: True\n",
    "print(isinstance(bird, Animal)) # Output: False\n",
    "print(isinstance(bird, Bird))   # Output: True\n"
   ]
  },
  {
   "cell_type": "code",
   "execution_count": 37,
   "id": "4c8c666a-0efc-4c44-a5cc-29c485020e83",
   "metadata": {},
   "outputs": [
    {
     "name": "stdout",
     "output_type": "stream",
     "text": [
      "True\n",
      "True\n",
      "False\n",
      "True\n"
     ]
    }
   ],
   "source": [
    "class Animal:\n",
    "    pass\n",
    "\n",
    "class Dog(Animal):\n",
    "    pass\n",
    "\n",
    "class Cat(Animal):\n",
    "    pass\n",
    "\n",
    "# Check if Dog is a subclass of Animal\n",
    "print(issubclass(Dog, Animal))  # Output: True\n",
    "\n",
    "# Check if Cat is a subclass of Animal\n",
    "print(issubclass(Cat, Animal))  # Output: True\n",
    "\n",
    "# Check if Animal is a subclass of Dog\n",
    "print(issubclass(Animal, Dog))  # Output: False\n",
    "\n",
    "# Check if Animal is a subclass of object (the root class)\n",
    "print(issubclass(Animal, object))  # Output: True\n"
   ]
  },
  {
   "cell_type": "code",
   "execution_count": 38,
   "id": "c83466bd-376f-40c8-bf9f-d5944f670a48",
   "metadata": {},
   "outputs": [
    {
     "name": "stdout",
     "output_type": "stream",
     "text": [
      "Animal constructor\n",
      "Dog constructor\n"
     ]
    }
   ],
   "source": [
    "class Animal:\n",
    "    def __init__(self, species):\n",
    "        self.species = species\n",
    "        print(\"Animal constructor\")\n",
    "\n",
    "class Dog(Animal):\n",
    "    def __init__(self, species, breed):\n",
    "        super().__init__(species)  # Call the constructor of the superclass\n",
    "        self.breed = breed\n",
    "        print(\"Dog constructor\")\n",
    "\n",
    "# Creating an instance of Dog\n",
    "my_dog = Dog(\"Canine\", \"Labrador\")\n"
   ]
  },
  {
   "cell_type": "code",
   "execution_count": 39,
   "id": "761235ee-0713-4f64-9092-887d15c3d333",
   "metadata": {},
   "outputs": [
    {
     "name": "stdout",
     "output_type": "stream",
     "text": [
      "Area of the circle: 78.53981633974483\n",
      "Area of the rectangle: 24\n"
     ]
    }
   ],
   "source": [
    "import math\n",
    "\n",
    "class Shape:\n",
    "    def area(self):\n",
    "        pass  # Placeholder method to be overridden in subclasses\n",
    "\n",
    "class Circle(Shape):\n",
    "    def __init__(self, radius):\n",
    "        self.radius = radius\n",
    "\n",
    "    def area(self):\n",
    "        return math.pi * self.radius ** 2\n",
    "\n",
    "class Rectangle(Shape):\n",
    "    def __init__(self, length, width):\n",
    "        self.length = length\n",
    "        self.width = width\n",
    "\n",
    "    def area(self):\n",
    "        return self.length * self.width\n",
    "\n",
    "# Example usage\n",
    "circle = Circle(5)\n",
    "print(\"Area of the circle:\", circle.area())  # Output: Area of the circle: 78.53981633974483\n",
    "\n",
    "rectangle = Rectangle(4, 6)\n",
    "print(\"Area of the rectangle:\", rectangle.area())  # Output: Area of the rectangle: 24\n"
   ]
  },
  {
   "cell_type": "code",
   "execution_count": 40,
   "id": "5af22be9-a46b-45e7-ac7d-3ddcae7c85f6",
   "metadata": {},
   "outputs": [
    {
     "name": "stdout",
     "output_type": "stream",
     "text": [
      "Area of the circle: 78.53981633974483\n",
      "Area of the rectangle: 24\n"
     ]
    }
   ],
   "source": [
    "from abc import ABC, abstractmethod\n",
    "\n",
    "class Shape(ABC):\n",
    "    @abstractmethod\n",
    "    def area(self):\n",
    "        pass\n",
    "\n",
    "class Circle(Shape):\n",
    "    def __init__(self, radius):\n",
    "        self.radius = radius\n",
    "\n",
    "    def area(self):\n",
    "        return math.pi * self.radius ** 2\n",
    "\n",
    "class Rectangle(Shape):\n",
    "    def __init__(self, length, width):\n",
    "        self.length = length\n",
    "        self.width = width\n",
    "\n",
    "    def area(self):\n",
    "        return self.length * self.width\n",
    "\n",
    "# Creating instances of Circle and Rectangle\n",
    "circle = Circle(5)\n",
    "print(\"Area of the circle:\", circle.area())  # Output: Area of the circle: 78.53981633974483\n",
    "\n",
    "rectangle = Rectangle(4, 6)\n",
    "print(\"Area of the rectangle:\", rectangle.area())  # Output: Area of the rectangle: 24\n"
   ]
  },
  {
   "cell_type": "code",
   "execution_count": 41,
   "id": "ed347775-96f5-41f1-8224-987d1c0a93c9",
   "metadata": {},
   "outputs": [
    {
     "name": "stdout",
     "output_type": "stream",
     "text": [
      "Protected attribute (read-only): 20\n",
      "Private attribute: 10\n",
      "Try to modify private attribute directly...\n",
      "This is a final method implementation in the Child class\n"
     ]
    }
   ],
   "source": [
    "class Parent:\n",
    "    def __init__(self):\n",
    "        self.__private_attr = 10  # Private attribute\n",
    "        self._protected_attr = 20  # Protected attribute\n",
    "\n",
    "    def get_private_attr(self):  # Getter method for private attribute\n",
    "        return self.__private_attr\n",
    "\n",
    "    @property\n",
    "    def protected_attr(self):  # Read-only property for protected attribute\n",
    "        return self._protected_attr\n",
    "\n",
    "    def final_method(self):  # Final method\n",
    "        raise NotImplementedError(\"Method must be implemented by subclasses\")\n",
    "\n",
    "class Child(Parent):\n",
    "    def __init__(self):\n",
    "        super().__init__()\n",
    "\n",
    "    def get_protected_attr(self):  # Child class can access protected attribute\n",
    "        return self._protected_attr\n",
    "\n",
    "    # Child class cannot modify private attribute directly\n",
    "    def try_to_modify_private_attr(self, new_value):\n",
    "        self.__private_attr = new_value\n",
    "\n",
    "    # Child class cannot override or modify the final method\n",
    "    def final_method(self):\n",
    "        print(\"This is a final method implementation in the Child class\")\n",
    "\n",
    "# Example usage\n",
    "child = Child()\n",
    "\n",
    "# Accessing attributes and methods\n",
    "print(\"Protected attribute (read-only):\", child.protected_attr)  # Output: Protected attribute (read-only): 20\n",
    "print(\"Private attribute:\", child.get_private_attr())           # Output: Private attribute: 10\n",
    "print(\"Try to modify private attribute directly...\")\n",
    "child.try_to_modify_private_attr(100)                            # AttributeError: 'Child' object has no attribute '_Child__private_attr'\n",
    "child.final_method()                                             # Output: This is a final method implementation in the Child class\n"
   ]
  },
  {
   "cell_type": "code",
   "execution_count": 42,
   "id": "20b8e91b-5387-468e-8f7e-6e30d75e0e30",
   "metadata": {},
   "outputs": [
    {
     "name": "stdout",
     "output_type": "stream",
     "text": [
      "Manager Name: John Doe\n",
      "Manager Salary: 5000\n",
      "Manager Department: Marketing\n"
     ]
    }
   ],
   "source": [
    "class Employee:\n",
    "    def __init__(self, name, salary):\n",
    "        self.name = name\n",
    "        self.salary = salary\n",
    "\n",
    "class Manager(Employee):\n",
    "    def __init__(self, name, salary, department):\n",
    "        super().__init__(name, salary)\n",
    "        self.department = department\n",
    "\n",
    "# Example usage\n",
    "manager = Manager(\"John Doe\", 5000, \"Marketing\")\n",
    "\n",
    "# Accessing attributes\n",
    "print(\"Manager Name:\", manager.name)          # Output: Manager Name: John Doe\n",
    "print(\"Manager Salary:\", manager.salary)      # Output: Manager Salary: 5000\n",
    "print(\"Manager Department:\", manager.department)  # Output: Manager Department: Marketing\n"
   ]
  },
  {
   "cell_type": "code",
   "execution_count": 44,
   "id": "fdb28390-07a6-495d-a2b1-0b598ed9e788",
   "metadata": {},
   "outputs": [],
   "source": [
    "#method Overloading\n",
    "class MyClass:\n",
    "    def method(self, x):\n",
    "        print(\"Method with one argument\")\n",
    "\n",
    "    def method(self, x, y):\n",
    "        print(\"Method with two arguments\")\n"
   ]
  },
  {
   "cell_type": "code",
   "execution_count": 45,
   "id": "663803e5-dcbb-44e7-b089-f503e610537a",
   "metadata": {},
   "outputs": [],
   "source": [
    "#method Overriding\n",
    "class Parent:\n",
    "    def method(self):\n",
    "        print(\"Parent method\")\n",
    "\n",
    "class Child(Parent):\n",
    "    def method(self):\n",
    "        print(\"Child method\")\n"
   ]
  },
  {
   "cell_type": "code",
   "execution_count": 46,
   "id": "842c805d-1d51-4d60-9070-9853c66fb81c",
   "metadata": {},
   "outputs": [
    {
     "name": "stdout",
     "output_type": "stream",
     "text": [
      "Parent Attribute: Parent Attribute\n",
      "Child Attribute: Child Attribute\n"
     ]
    }
   ],
   "source": [
    "class Parent:\n",
    "    def __init__(self, parent_attr):\n",
    "        self.parent_attr = parent_attr\n",
    "\n",
    "class Child(Parent):\n",
    "    def __init__(self, parent_attr, child_attr):\n",
    "        super().__init__(parent_attr)  # Call parent class constructor\n",
    "        self.child_attr = child_attr    # Initialize child class attribute\n",
    "\n",
    "# Example usage\n",
    "parent_obj = Parent(\"Parent Attribute\")\n",
    "child_obj = Child(\"Parent Attribute\", \"Child Attribute\")\n",
    "\n",
    "print(\"Parent Attribute:\", child_obj.parent_attr)  # Output: Parent Attribute\n",
    "print(\"Child Attribute:\", child_obj.child_attr)    # Output: Child Attribute\n"
   ]
  },
  {
   "cell_type": "code",
   "execution_count": 47,
   "id": "d1b33614-049d-4c1e-a556-f948f3d7fcca",
   "metadata": {},
   "outputs": [
    {
     "name": "stdout",
     "output_type": "stream",
     "text": [
      "Eagle: Eagle flies high in the sky\n",
      "Sparrow: Sparrow flies close to the ground\n"
     ]
    }
   ],
   "source": [
    "class Bird:\n",
    "    def fly(self):\n",
    "        pass  # Placeholder method to be overridden in subclasses\n",
    "\n",
    "class Eagle(Bird):\n",
    "    def fly(self):\n",
    "        return \"Eagle flies high in the sky\"\n",
    "\n",
    "class Sparrow(Bird):\n",
    "    def fly(self):\n",
    "        return \"Sparrow flies close to the ground\"\n",
    "\n",
    "# Example usage\n",
    "eagle = Eagle()\n",
    "print(\"Eagle:\", eagle.fly())  # Output: Eagle: Eagle flies high in the sky\n",
    "\n",
    "sparrow = Sparrow()\n",
    "print(\"Sparrow:\", sparrow.fly())  # Output: Sparrow: Sparrow flies close to the ground\n"
   ]
  },
  {
   "cell_type": "code",
   "execution_count": 48,
   "id": "5996288e-3413-4afb-b82b-84030a54a727",
   "metadata": {},
   "outputs": [
    {
     "ename": "IndentationError",
     "evalue": "unexpected indent (3706217479.py, line 2)",
     "output_type": "error",
     "traceback": [
      "\u001b[1;36m  Cell \u001b[1;32mIn[48], line 2\u001b[1;36m\u001b[0m\n\u001b[1;33m    (B, C)\u001b[0m\n\u001b[1;37m    ^\u001b[0m\n\u001b[1;31mIndentationError\u001b[0m\u001b[1;31m:\u001b[0m unexpected indent\n"
     ]
    }
   ],
   "source": [
    "     A\n",
    "    / \\\n",
    "   B   C\n",
    "    \\ /\n",
    "     D\n"
   ]
  },
  {
   "cell_type": "code",
   "execution_count": 1,
   "id": "caab98f8-9b46-44d2-9689-85a1985120e0",
   "metadata": {},
   "outputs": [
    {
     "name": "stdout",
     "output_type": "stream",
     "text": [
      "Name: Alice, Age: 20, Student ID: S001, Major: Computer Science\n",
      "Name: Dr. Smith, Age: 45, Employee ID: P001, Department: Computer Science\n",
      "Alice is studying.\n",
      "Dr. Smith is teaching.\n"
     ]
    }
   ],
   "source": [
    "class Person:\n",
    "    def __init__(self, name, age):\n",
    "        self.name = name\n",
    "        self.age = age\n",
    "\n",
    "    def __str__(self):\n",
    "        return f\"Name: {self.name}, Age: {self.age}\"\n",
    "\n",
    "class Student(Person):\n",
    "    def __init__(self, name, age, student_id, major):\n",
    "        super().__init__(name, age)\n",
    "        self.student_id = student_id\n",
    "        self.major = major\n",
    "\n",
    "    def __str__(self):\n",
    "        return f\"Name: {self.name}, Age: {self.age}, Student ID: {self.student_id}, Major: {self.major}\"\n",
    "\n",
    "    def study(self):\n",
    "        print(f\"{self.name} is studying.\")\n",
    "\n",
    "class Professor(Person):\n",
    "    def __init__(self, name, age, employee_id, department):\n",
    "        super().__init__(name, age)\n",
    "        self.employee_id = employee_id\n",
    "        self.department = department\n",
    "\n",
    "    def __str__(self):\n",
    "        return f\"Name: {self.name}, Age: {self.age}, Employee ID: {self.employee_id}, Department: {self.department}\"\n",
    "\n",
    "    def teach(self):\n",
    "        print(f\"{self.name} is teaching.\")\n",
    "\n",
    "# Example usage\n",
    "student1 = Student(\"Alice\", 20, \"S001\", \"Computer Science\")\n",
    "professor1 = Professor(\"Dr. Smith\", 45, \"P001\", \"Computer Science\")\n",
    "\n",
    "print(student1)\n",
    "print(professor1)\n",
    "\n",
    "student1.study()\n",
    "professor1.teach()\n",
    "\n"
   ]
  },
  {
   "cell_type": "markdown",
   "id": "2b6ed5fe-7e94-47f1-9cc2-48955bd0921d",
   "metadata": {},
   "source": [
    "Encapsulation:"
   ]
  },
  {
   "cell_type": "code",
   "execution_count": 3,
   "id": "416f7063-d547-48c9-85db-8d414be54ea4",
   "metadata": {},
   "outputs": [
    {
     "name": "stdout",
     "output_type": "stream",
     "text": [
      "Alice is studying.\n",
      "Alice took the exam in Math and scored 85.\n",
      "Alice took the exam in Physics and scored 90.\n",
      "Alice's exam scores: [85, 90]\n"
     ]
    }
   ],
   "source": [
    "class Exam:\n",
    "    def __init__(self, subject, score):\n",
    "        self.subject = subject\n",
    "        self.score = score\n",
    "\n",
    "    def __str__(self):\n",
    "        return f\"Subject: {self.subject}, Score: {self.score}\"\n",
    "\n",
    "\n",
    "class Person:\n",
    "    def __init__(self, name, age):\n",
    "        self.name = name\n",
    "        self.age = age\n",
    "\n",
    "    def __str__(self):\n",
    "        return f\"Name: {self.name}, Age: {self.age}\"\n",
    "\n",
    "\n",
    "class Student(Person):\n",
    "    def __init__(self, name, age, student_id, major):\n",
    "        super().__init__(name, age)\n",
    "        self.student_id = student_id\n",
    "        self.major = major\n",
    "        self.exams = []\n",
    "\n",
    "    def __str__(self):\n",
    "        return f\"Name: {self.name}, Age: {self.age}, Student ID: {self.student_id}, Major: {self.major}\"\n",
    "\n",
    "    def study(self):\n",
    "        print(f\"{self.name} is studying.\")\n",
    "\n",
    "    def take_exam(self, subject, score):\n",
    "        exam = Exam(subject, score)\n",
    "        self.exams.append(exam)\n",
    "        print(f\"{self.name} took the exam in {subject} and scored {score}.\")\n",
    "\n",
    "    def get_exam_scores(self):\n",
    "        return [exam.score for exam in self.exams]\n",
    "\n",
    "\n",
    "# Example usage\n",
    "student1 = Student(\"Alice\", 20, \"S001\", \"Computer Science\")\n",
    "student1.study()\n",
    "student1.take_exam(\"Math\", 85)\n",
    "student1.take_exam(\"Physics\", 90)\n",
    "\n",
    "print(f\"{student1.name}'s exam scores: {student1.get_exam_scores()}\")\n"
   ]
  },
  {
   "cell_type": "code",
   "execution_count": 4,
   "id": "f39d8647-be3a-4fa6-b9ec-633b95339c3a",
   "metadata": {},
   "outputs": [
    {
     "name": "stdout",
     "output_type": "stream",
     "text": [
      "Make: Toyota\n",
      "Model: Corolla\n",
      "Year before modification: 2020\n",
      "Year after modification: 2021\n"
     ]
    }
   ],
   "source": [
    "class Car:\n",
    "    def __init__(self, make, model, year):\n",
    "        self._make = make        # Private attribute\n",
    "        self._model = model      # Private attribute\n",
    "        self.__year = year      # Private attribute (name mangled)\n",
    "\n",
    "    def get_make(self):\n",
    "        return self._make\n",
    "\n",
    "    def get_model(self):\n",
    "        return self._model\n",
    "\n",
    "    def get_year(self):\n",
    "        return self.__year\n",
    "\n",
    "    def set_year(self, year):\n",
    "        if year > 0:   # Ensure year is positive\n",
    "            self.__year = year\n",
    "        else:\n",
    "            print(\"Invalid year value. Year must be positive.\")\n",
    "\n",
    "# Creating an instance of the Car class\n",
    "my_car = Car(\"Toyota\", \"Corolla\", 2020)\n",
    "\n",
    "# Accessing attributes using getter methods\n",
    "print(\"Make:\", my_car.get_make())   # Public access\n",
    "print(\"Model:\", my_car.get_model()) # Public access\n",
    "# print(\"Year:\", my_car.__year)      # This will raise an AttributeError because __year is private\n",
    "\n",
    "# Accessing and modifying private attribute using setter method\n",
    "print(\"Year before modification:\", my_car.get_year()) # Accessing private attribute using getter method\n",
    "my_car.set_year(2021)   # Modifying private attribute using setter method\n",
    "print(\"Year after modification:\", my_car.get_year()) # Accessing private attribute using getter method\n",
    "\n"
   ]
  },
  {
   "cell_type": "code",
   "execution_count": 5,
   "id": "92c2a58b-90ea-4c69-ac37-c0aac542aae7",
   "metadata": {},
   "outputs": [
    {
     "name": "stdout",
     "output_type": "stream",
     "text": [
      "Make: Toyota\n",
      "Model: Corolla\n",
      "Year: 2020\n",
      "Year after modification: 2021\n"
     ]
    }
   ],
   "source": [
    "class Car:\n",
    "    def __init__(self, make, model, year):\n",
    "        self._make = make  # Protected attribute\n",
    "        self._model = model  # Protected attribute\n",
    "        self.__year = year  # Private attribute (name mangling)\n",
    "\n",
    "    @property\n",
    "    def make(self):\n",
    "        return self._make\n",
    "\n",
    "    @property\n",
    "    def model(self):\n",
    "        return self._model\n",
    "\n",
    "    @property\n",
    "    def year(self):\n",
    "        return self.__year\n",
    "\n",
    "    @year.setter\n",
    "    def year(self, value):\n",
    "        if value > 0:\n",
    "            self.__year = value\n",
    "        else:\n",
    "            print(\"Invalid year value. Year must be positive.\")\n",
    "\n",
    "# Creating an instance of the Car class\n",
    "my_car = Car(\"Toyota\", \"Corolla\", 2020)\n",
    "\n",
    "# Accessing attributes using property decorators\n",
    "print(\"Make:\", my_car.make)  # Protected access\n",
    "print(\"Model:\", my_car.model)  # Protected access\n",
    "print(\"Year:\", my_car.year)  # Private access using property decorator\n",
    "\n",
    "# Modifying private attribute using property setter\n",
    "my_car.year = 2021\n",
    "print(\"Year after modification:\", my_car.year)  # Private access using property decorator\n"
   ]
  },
  {
   "cell_type": "code",
   "execution_count": 6,
   "id": "68201698-a1a9-4250-b2e4-58088347daa0",
   "metadata": {},
   "outputs": [
    {
     "name": "stdout",
     "output_type": "stream",
     "text": [
      "Make: Toyota\n",
      "Model: Corolla\n",
      "Year: 2020\n",
      "Make: Toyota\n",
      "Model: Corolla\n",
      "Year: 2020\n",
      "Car is being repaired.\n",
      "Car is being serviced.\n"
     ]
    }
   ],
   "source": [
    "class Car:\n",
    "    def __init__(self, make, model, year):\n",
    "        self.make = make          # Public attribute\n",
    "        self._model = model      # Protected attribute\n",
    "        self.__year = year      # Private attribute (name mangled)\n",
    "\n",
    "    def display_details(self):\n",
    "        print(f\"Make: {self.make}\")\n",
    "        print(f\"Model: {self._model}\")\n",
    "        print(f\"Year: {self.__year}\")\n",
    "\n",
    "    def _repair(self):   # Protected method\n",
    "        print(\"Car is being repaired.\")\n",
    "\n",
    "    def __service(self):   # Private method (name mangled)\n",
    "        print(\"Car is being serviced.\")\n",
    "\n",
    "# Creating an instance of the Car class\n",
    "my_car = Car(\"Toyota\", \"Corolla\", 2020)\n",
    "\n",
    "# Accessing public attribute\n",
    "print(\"Make:\", my_car.make)\n",
    "\n",
    "# Accessing protected attribute (discouraged)\n",
    "print(\"Model:\", my_car._model)\n",
    "\n",
    "# Accessing private attribute using name mangling (discouraged)\n",
    "# print(\"Year:\", my_car.__year)  # This line would raise an AttributeError\n",
    "\n",
    "# Accessing private attribute using name mangling (discouraged)\n",
    "print(\"Year:\", my_car._Car__year)  \n",
    "\n",
    "# Calling public method\n",
    "my_car.display_details()\n",
    "\n",
    "# Calling protected method (discouraged)\n",
    "my_car._repair()\n",
    "\n",
    "# Calling private method using name mangling (discouraged)\n",
    "# my_car.__service()  # This line would raise an AttributeError\n",
    "\n",
    "# Calling private method using name mangling (discouraged)\n",
    "my_car._Car__service() \n"
   ]
  },
  {
   "cell_type": "code",
   "execution_count": 7,
   "id": "079624f0-2e6e-46ff-a0ec-cd113b32035e",
   "metadata": {},
   "outputs": [
    {
     "name": "stdout",
     "output_type": "stream",
     "text": [
      "Name: Alice\n",
      "Updated Name: Bob\n"
     ]
    }
   ],
   "source": [
    "class Person:\n",
    "    def __init__(self, name):\n",
    "        self.__name = name\n",
    "\n",
    "    def get_name(self):\n",
    "        return self.__name\n",
    "\n",
    "    def set_name(self, name):\n",
    "        self.__name = name\n",
    "\n",
    "# Creating an instance of the Person class\n",
    "person1 = Person(\"Alice\")\n",
    "\n",
    "# Getting the name attribute\n",
    "print(\"Name:\", person1.get_name())\n",
    "\n",
    "# Setting a new name\n",
    "person1.set_name(\"Bob\")\n",
    "\n",
    "# Getting the updated name attribute\n",
    "print(\"Updated Name:\", person1.get_name())\n",
    "\n"
   ]
  },
  {
   "cell_type": "code",
   "execution_count": 8,
   "id": "81aa3e40-dd6f-44c5-aa83-3aa63052720d",
   "metadata": {},
   "outputs": [
    {
     "name": "stdout",
     "output_type": "stream",
     "text": [
      "Radius: 5\n",
      "Updated Radius: 7\n"
     ]
    }
   ],
   "source": [
    "class Circle:\n",
    "    def __init__(self, radius):\n",
    "        self.__radius = radius   # Private attribute\n",
    "\n",
    "    def get_radius(self):   # Getter method\n",
    "        return self.__radius\n",
    "\n",
    "    def set_radius(self, radius):   # Setter method\n",
    "        if radius > 0:\n",
    "            self.__radius = radius\n",
    "        else:\n",
    "            print(\"Invalid radius. Radius must be positive.\")\n",
    "\n",
    "# Creating an instance of the Circle class\n",
    "my_circle = Circle(5)\n",
    "\n",
    "# Getting the radius attribute using the getter method\n",
    "print(\"Radius:\", my_circle.get_radius())\n",
    "\n",
    "# Setting a new radius using the setter method\n",
    "my_circle.set_radius(7)\n",
    "\n",
    "# Getting the updated radius attribute using the getter method\n",
    "print(\"Updated Radius:\", my_circle.get_radius())\n"
   ]
  },
  {
   "cell_type": "code",
   "execution_count": 9,
   "id": "808ec9a3-fc95-4192-b1a2-2f1de2a86099",
   "metadata": {},
   "outputs": [
    {
     "ename": "AttributeError",
     "evalue": "'MyClass' object has no attribute '__private_attribute'",
     "output_type": "error",
     "traceback": [
      "\u001b[1;31m---------------------------------------------------------------------------\u001b[0m",
      "\u001b[1;31mAttributeError\u001b[0m                            Traceback (most recent call last)",
      "Cell \u001b[1;32mIn[9], line 12\u001b[0m\n\u001b[0;32m      9\u001b[0m obj \u001b[38;5;241m=\u001b[39m MyClass()\n\u001b[0;32m     11\u001b[0m \u001b[38;5;66;03m# Accessing private attribute directly (not recommended)\u001b[39;00m\n\u001b[1;32m---> 12\u001b[0m \u001b[38;5;28mprint\u001b[39m(obj\u001b[38;5;241m.\u001b[39m__private_attribute)  \u001b[38;5;66;03m# This would raise an AttributeError\u001b[39;00m\n\u001b[0;32m     14\u001b[0m \u001b[38;5;66;03m# Accessing private method directly (not recommended)\u001b[39;00m\n\u001b[0;32m     15\u001b[0m \u001b[38;5;66;03m# obj.__private_method()  # This would raise an AttributeError\u001b[39;00m\n\u001b[0;32m     16\u001b[0m \n\u001b[0;32m     17\u001b[0m \u001b[38;5;66;03m# Accessing private attribute using name mangling\u001b[39;00m\n\u001b[0;32m     18\u001b[0m \u001b[38;5;28mprint\u001b[39m(obj\u001b[38;5;241m.\u001b[39m_MyClass__private_attribute)\n",
      "\u001b[1;31mAttributeError\u001b[0m: 'MyClass' object has no attribute '__private_attribute'"
     ]
    }
   ],
   "source": [
    "class MyClass:\n",
    "    def __init__(self):\n",
    "        self.__private_attribute = 42   # Private attribute\n",
    "\n",
    "    def __private_method(self):   # Private method\n",
    "        print(\"This is a private method.\")\n",
    "\n",
    "# Creating an instance of the MyClass class\n",
    "obj = MyClass()\n",
    "\n",
    "# Accessing private attribute directly (not recommended)\n",
    "print(obj.__private_attribute)  # This would raise an AttributeError\n",
    "\n",
    "# Accessing private method directly (not recommended)\n",
    "# obj.__private_method()  # This would raise an AttributeError\n",
    "\n",
    "# Accessing private attribute using name mangling\n",
    "print(obj._MyClass__private_attribute)  # Prints: 42\n",
    "\n",
    "# Accessing private method using name mangling\n",
    "# obj._MyClass__private_method()  # This would raise an AttributeError\n"
   ]
  },
  {
   "cell_type": "code",
   "execution_count": 10,
   "id": "32d33a23-fae6-4771-869e-e4642bc5b533",
   "metadata": {},
   "outputs": [
    {
     "name": "stdout",
     "output_type": "stream",
     "text": [
      "Deposited 100 units. New balance: 100\n",
      "Deposited 50 units. New balance: 150\n",
      "Account Balance: 150\n",
      "Account Number: 1234567890\n"
     ]
    }
   ],
   "source": [
    "class BankAccount:\n",
    "    def __init__(self, account_number):\n",
    "        self.__account_number = account_number\n",
    "        self.__balance = 0\n",
    "\n",
    "    def deposit(self, amount):\n",
    "        if amount > 0:\n",
    "            self.__balance += amount\n",
    "            print(f\"Deposited {amount} units. New balance: {self.__balance}\")\n",
    "        else:\n",
    "            print(\"Invalid deposit amount. Amount must be positive.\")\n",
    "\n",
    "    def get_balance(self):\n",
    "        return self.__balance\n",
    "\n",
    "    def get_account_number(self):\n",
    "        return self.__account_number\n",
    "\n",
    "# Creating an instance of the BankAccount class\n",
    "account = BankAccount(\"1234567890\")\n",
    "\n",
    "# Depositing funds into the account\n",
    "account.deposit(100)\n",
    "account.deposit(50)\n",
    "\n",
    "# Getting the account balance and account number\n",
    "print(\"Account Balance:\", account.get_balance())\n",
    "print(\"Account Number:\", account.get_account_number())\n"
   ]
  },
  {
   "cell_type": "code",
   "execution_count": 11,
   "id": "bcebb73d-a3a8-4d6d-a3f0-1107190c3f81",
   "metadata": {},
   "outputs": [
    {
     "name": "stdout",
     "output_type": "stream",
     "text": [
      "Employee Name: Alice\n",
      "Employee Salary: 50000\n",
      "Employee ID: E001\n",
      "Updated Employee Salary: 55000\n",
      "Updated Employee ID: E002\n"
     ]
    }
   ],
   "source": [
    "class Employee:\n",
    "    def __init__(self, name, salary, employee_id):\n",
    "        self.__name = name          # Private attribute\n",
    "        self.__salary = salary      # Private attribute\n",
    "        self.__employee_id = employee_id  # Private attribute\n",
    "\n",
    "    def get_name(self):\n",
    "        return self.__name\n",
    "\n",
    "    def set_name(self, name):\n",
    "        self.__name = name\n",
    "\n",
    "    def get_salary(self):\n",
    "        return self.__salary\n",
    "\n",
    "    def set_salary(self, salary):\n",
    "        if salary > 0:\n",
    "            self.__salary = salary\n",
    "        else:\n",
    "            print(\"Invalid salary. Salary must be positive.\")\n",
    "\n",
    "    def get_employee_id(self):\n",
    "        return self.__employee_id\n",
    "\n",
    "    def set_employee_id(self, employee_id):\n",
    "        self.__employee_id = employee_id\n",
    "\n",
    "# Creating an instance of the Employee class\n",
    "employee = Employee(\"Alice\", 50000, \"E001\")\n",
    "\n",
    "# Getting the employee's name, salary, and employee ID\n",
    "print(\"Employee Name:\", employee.get_name())\n",
    "print(\"Employee Salary:\", employee.get_salary())\n",
    "print(\"Employee ID:\", employee.get_employee_id())\n",
    "\n",
    "# Modifying the employee's salary\n",
    "employee.set_salary(55000)\n",
    "print(\"Updated Employee Salary:\", employee.get_salary())\n",
    "\n",
    "# Modifying the employee's ID\n",
    "employee.set_employee_id(\"E002\")\n",
    "print(\"Updated Employee ID:\", employee.get_employee_id())\n"
   ]
  },
  {
   "cell_type": "code",
   "execution_count": 12,
   "id": "250ff754-6621-4e77-9284-5032dd0f7775",
   "metadata": {},
   "outputs": [
    {
     "name": "stdout",
     "output_type": "stream",
     "text": [
      "42\n"
     ]
    }
   ],
   "source": [
    "class MyClass:\n",
    "    def __init__(self):\n",
    "        self.__private_attribute = 42\n",
    "\n",
    "# Creating an instance of the MyClass class\n",
    "obj = MyClass()\n",
    "\n",
    "# Accessing private attribute using name mangling\n",
    "print(obj._MyClass__private_attribute)  # Prints: 42\n"
   ]
  },
  {
   "cell_type": "code",
   "execution_count": 13,
   "id": "202da850-d245-424f-9949-9a9934137767",
   "metadata": {},
   "outputs": [
    {
     "name": "stdout",
     "output_type": "stream",
     "text": [
      "Teacher: John Smith\n",
      "Student: Alice\n",
      "Math Grade for Student 1: 85\n",
      "English Grade for Student 1: 90\n"
     ]
    }
   ],
   "source": [
    "class Course:\n",
    "    def __init__(self, course_code, course_name):\n",
    "        self.__course_code = course_code  # Private attribute\n",
    "        self.__course_name = course_name  # Private attribute\n",
    "\n",
    "    def get_course_code(self):\n",
    "        return self.__course_code\n",
    "\n",
    "    def get_course_name(self):\n",
    "        return self.__course_name\n",
    "\n",
    "\n",
    "class Teacher:\n",
    "    def __init__(self, teacher_id, name, salary):\n",
    "        self.__teacher_id = teacher_id    # Private attribute\n",
    "        self.__name = name                # Private attribute\n",
    "        self.__salary = salary            # Private attribute\n",
    "\n",
    "    def get_teacher_id(self):\n",
    "        return self.__teacher_id\n",
    "\n",
    "    def get_name(self):\n",
    "        return self.__name\n",
    "\n",
    "    def get_salary(self):\n",
    "        return self.__salary\n",
    "\n",
    "\n",
    "class Student:\n",
    "    def __init__(self, student_id, name):\n",
    "        self.__student_id = student_id    # Private attribute\n",
    "        self.__name = name                # Private attribute\n",
    "        self.__grades = {}                # Private attribute\n",
    "\n",
    "    def get_student_id(self):\n",
    "        return self.__student_id\n",
    "\n",
    "    def get_name(self):\n",
    "        return self.__name\n",
    "\n",
    "    def add_grade(self, course_code, grade):\n",
    "        self.__grades[course_code] = grade\n",
    "\n",
    "    def get_grade(self, course_code):\n",
    "        return self.__grades.get(course_code, \"N/A\")\n",
    "\n",
    "\n",
    "# Example usage:\n",
    "math_course = Course(\"MATH101\", \"Introduction to Mathematics\")\n",
    "english_course = Course(\"ENG101\", \"English Composition\")\n",
    "\n",
    "teacher = Teacher(\"T001\", \"John Smith\", 50000)\n",
    "student1 = Student(\"S001\", \"Alice\")\n",
    "student2 = Student(\"S002\", \"Bob\")\n",
    "\n",
    "# Adding grades for students\n",
    "student1.add_grade(math_course.get_course_code(), 85)\n",
    "student1.add_grade(english_course.get_course_code(), 90)\n",
    "student2.add_grade(math_course.get_course_code(), 75)\n",
    "student2.add_grade(english_course.get_course_code(), 80)\n",
    "\n",
    "# Getting information\n",
    "print(\"Teacher:\", teacher.get_name())\n",
    "print(\"Student:\", student1.get_name())\n",
    "print(\"Math Grade for Student 1:\", student1.get_grade(math_course.get_course_code()))\n",
    "print(\"English Grade for Student 1:\", student1.get_grade(english_course.get_course_code()))\n"
   ]
  },
  {
   "cell_type": "code",
   "execution_count": 14,
   "id": "ebf184fc-fcdb-4cbf-9fec-16243ff41b56",
   "metadata": {},
   "outputs": [
    {
     "name": "stdout",
     "output_type": "stream",
     "text": [
      "Width: 10\n",
      "Height: 5\n",
      "Updated Width: 20\n",
      "Updated Height: 8\n",
      "Area: 160\n"
     ]
    }
   ],
   "source": [
    "class Rectangle:\n",
    "    def __init__(self, width, height):\n",
    "        self._width = width   # Protected attribute\n",
    "        self._height = height   # Protected attribute\n",
    "\n",
    "    @property\n",
    "    def width(self):\n",
    "        return self._width\n",
    "\n",
    "    @width.setter\n",
    "    def width(self, value):\n",
    "        if value > 0:\n",
    "            self._width = value\n",
    "        else:\n",
    "            raise ValueError(\"Width must be positive.\")\n",
    "\n",
    "    @property\n",
    "    def height(self):\n",
    "        return self._height\n",
    "\n",
    "    @height.setter\n",
    "    def height(self, value):\n",
    "        if value > 0:\n",
    "            self._height = value\n",
    "        else:\n",
    "            raise ValueError(\"Height must be positive.\")\n",
    "\n",
    "    @property\n",
    "    def area(self):\n",
    "        return self._width * self._height\n",
    "\n",
    "# Creating an instance of the Rectangle class\n",
    "rectangle = Rectangle(10, 5)\n",
    "\n",
    "# Accessing width and height attributes using getter methods\n",
    "print(\"Width:\", rectangle.width)   # Prints: 10\n",
    "print(\"Height:\", rectangle.height)   # Prints: 5\n",
    "\n",
    "# Setting new values for width and height attributes using setter methods\n",
    "rectangle.width = 20\n",
    "rectangle.height = 8\n",
    "\n",
    "# Accessing updated width and height attributes\n",
    "print(\"Updated Width:\", rectangle.width)   # Prints: 20\n",
    "print(\"Updated Height:\", rectangle.height)   # Prints: 8\n",
    "\n",
    "# Accessing area attribute (computed property)\n",
    "print(\"Area:\", rectangle.area)   # Prints: 160\n"
   ]
  },
  {
   "cell_type": "code",
   "execution_count": 15,
   "id": "ca4582ef-15e3-498b-abf0-a955553d2a22",
   "metadata": {},
   "outputs": [
    {
     "name": "stdout",
     "output_type": "stream",
     "text": [
      "Current Balance: 1300\n"
     ]
    }
   ],
   "source": [
    "class BankAccount:\n",
    "    def __init__(self, account_number, initial_balance):\n",
    "        self.__account_number = account_number  # Private attribute\n",
    "        self.__balance = initial_balance        # Private attribute\n",
    "\n",
    "    def deposit(self, amount):\n",
    "        self.__balance += amount\n",
    "\n",
    "    def withdraw(self, amount):\n",
    "        if self.__balance >= amount:\n",
    "            self.__balance -= amount\n",
    "        else:\n",
    "            print(\"Insufficient funds.\")\n",
    "\n",
    "    def get_balance(self):\n",
    "        return self.__balance\n",
    "\n",
    "# Creating an instance of the BankAccount class\n",
    "account = BankAccount(\"1234567890\", 1000)\n",
    "\n",
    "# Attempting to access private attributes directly\n",
    "# print(account.__account_number)  # This would raise an AttributeError\n",
    "# print(account.__balance)  # This would raise an AttributeError\n",
    "\n",
    "# Accessing and modifying object state through public methods\n",
    "account.deposit(500)\n",
    "account.withdraw(200)\n",
    "print(\"Current Balance:\", account.get_balance())  # Prints: 1300\n",
    "\n"
   ]
  },
  {
   "cell_type": "code",
   "execution_count": 16,
   "id": "c02c498d-6aa2-4b20-af42-f3f29337349a",
   "metadata": {},
   "outputs": [
    {
     "name": "stdout",
     "output_type": "stream",
     "text": [
      "Employee ID: E001\n",
      "Salary: 50000\n",
      "Yearly Bonus: $5000.00\n"
     ]
    }
   ],
   "source": [
    "class Employee:\n",
    "    def __init__(self, employee_id, salary):\n",
    "        self.__employee_id = employee_id   # Private attribute\n",
    "        self.__salary = salary             # Private attribute\n",
    "\n",
    "    def calculate_bonus(self, percentage):\n",
    "        bonus = self.__salary * percentage / 100\n",
    "        return bonus\n",
    "\n",
    "    # Getter methods to access private attributes\n",
    "    def get_employee_id(self):\n",
    "        return self.__employee_id\n",
    "\n",
    "    def get_salary(self):\n",
    "        return self.__salary\n",
    "\n",
    "# Example usage:\n",
    "employee1 = Employee(\"E001\", 50000)\n",
    "\n",
    "# Accessing private attributes using getter methods\n",
    "print(\"Employee ID:\", employee1.get_employee_id())\n",
    "print(\"Salary:\", employee1.get_salary())\n",
    "\n",
    "# Calculating and printing yearly bonus\n",
    "bonus_percentage = 10  # 10% bonus\n",
    "yearly_bonus = employee1.calculate_bonus(bonus_percentage)\n",
    "print(f\"Yearly Bonus: ${yearly_bonus:.2f}\")\n"
   ]
  },
  {
   "cell_type": "code",
   "execution_count": 17,
   "id": "c5457dbb-dea2-4189-b2a9-dcac5ee05057",
   "metadata": {},
   "outputs": [
    {
     "name": "stdout",
     "output_type": "stream",
     "text": [
      "Width: 10\n",
      "Height: 5\n",
      "Updated Width: 20\n",
      "Updated Height: 8\n",
      "Area: 160\n"
     ]
    }
   ],
   "source": [
    "class Rectangle:\n",
    "    def __init__(self, width, height):\n",
    "        self.__width = width   # Private attribute\n",
    "        self.__height = height   # Private attribute\n",
    "\n",
    "    # Accessor methods (getters)\n",
    "    def get_width(self):\n",
    "        return self.__width\n",
    "\n",
    "    def get_height(self):\n",
    "        return self.__height\n",
    "\n",
    "    # Mutator methods (setters)\n",
    "    def set_width(self, width):\n",
    "        if width > 0:\n",
    "            self.__width = width\n",
    "        else:\n",
    "            print(\"Width must be positive.\")\n",
    "\n",
    "    def set_height(self, height):\n",
    "        if height > 0:\n",
    "            self.__height = height\n",
    "        else:\n",
    "            print(\"Height must be positive.\")\n",
    "\n",
    "    def area(self):\n",
    "        return self.__width * self.__height\n",
    "\n",
    "# Creating an instance of the Rectangle class\n",
    "rectangle = Rectangle(10, 5)\n",
    "\n",
    "# Accessing attributes using accessor methods (getters)\n",
    "print(\"Width:\", rectangle.get_width())   # Prints: 10\n",
    "print(\"Height:\", rectangle.get_height())   # Prints: 5\n",
    "\n",
    "# Modifying attributes using mutator methods (setters)\n",
    "rectangle.set_width(20)\n",
    "rectangle.set_height(8)\n",
    "\n",
    "# Accessing modified attributes using accessor methods (getters)\n",
    "print(\"Updated Width:\", rectangle.get_width())   # Prints: 20\n",
    "print(\"Updated Height:\", rectangle.get_height())   # Prints: 8\n",
    "\n",
    "# Calculating and printing area\n",
    "print(\"Area:\", rectangle.area())   # Prints: 160\n"
   ]
  },
  {
   "cell_type": "code",
   "execution_count": 18,
   "id": "d10bf5dd-fcd5-428e-9c19-b4ff6af7db90",
   "metadata": {},
   "outputs": [
    {
     "name": "stdout",
     "output_type": "stream",
     "text": [
      "Width: 10\n",
      "Height: 5\n",
      "Updated Width: 20\n",
      "Updated Height: 8\n",
      "Area: 160\n",
      "Perimeter: 56\n"
     ]
    }
   ],
   "source": [
    "class Rectangle:\n",
    "    def __init__(self, width, height):\n",
    "        self.__width = width   # Private attribute\n",
    "        self.__height = height   # Private attribute\n",
    "\n",
    "    # Accessor methods (getters)\n",
    "    def get_width(self):\n",
    "        return self.__width\n",
    "\n",
    "    def get_height(self):\n",
    "        return self.__height\n",
    "\n",
    "    # Mutator methods (setters)\n",
    "    def set_width(self, width):\n",
    "        if width > 0:\n",
    "            self.__width = width\n",
    "        else:\n",
    "            print(\"Width must be positive.\")\n",
    "\n",
    "    def set_height(self, height):\n",
    "        if height > 0:\n",
    "            self.__height = height\n",
    "        else:\n",
    "            print(\"Height must be positive.\")\n",
    "\n",
    "    # Other methods\n",
    "    def area(self):\n",
    "        return self.__width * self.__height\n",
    "\n",
    "    def perimeter(self):\n",
    "        return 2 * (self.__width + self.__height)\n",
    "\n",
    "# Creating an instance of the Rectangle class\n",
    "rectangle = Rectangle(10, 5)\n",
    "\n",
    "# Accessing attributes using accessor methods (getters)\n",
    "print(\"Width:\", rectangle.get_width())   # Prints: 10\n",
    "print(\"Height:\", rectangle.get_height())   # Prints: 5\n",
    "\n",
    "# Modifying attributes using mutator methods (setters)\n",
    "rectangle.set_width(20)\n",
    "rectangle.set_height(8)\n",
    "\n",
    "# Accessing modified attributes using accessor methods\n",
    "print(\"Updated Width:\", rectangle.get_width())   # Prints: 20\n",
    "print(\"Updated Height:\", rectangle.get_height())   # Prints: 8\n",
    "\n",
    "# Calculating and printing area and perimeter\n",
    "print(\"Area:\", rectangle.area())   # Prints: 160\n",
    "print(\"Perimeter:\", rectangle.perimeter())   # Prints: 56\n"
   ]
  },
  {
   "cell_type": "code",
   "execution_count": 19,
   "id": "39421590-7612-4ebb-946b-0ff1a8a14475",
   "metadata": {},
   "outputs": [
    {
     "name": "stdout",
     "output_type": "stream",
     "text": [
      "Book 1 Title: 1984\n",
      "Book 1 Author: George Orwell\n",
      "Book 1 Availability: True\n",
      "The book '1984' by George Orwell has been borrowed.\n",
      "The book '1984' by George Orwell has been returned.\n",
      "The book '1984' by George Orwell has been borrowed.\n"
     ]
    }
   ],
   "source": [
    "class Book:\n",
    "    def __init__(self, title, author):\n",
    "        self.__title = title     # Private attribute\n",
    "        self.__author = author   # Private attribute\n",
    "        self.__available = True  # Private attribute\n",
    "\n",
    "    def get_title(self):\n",
    "        return self.__title\n",
    "\n",
    "    def get_author(self):\n",
    "        return self.__author\n",
    "\n",
    "    def is_available(self):\n",
    "        return self.__available\n",
    "\n",
    "    def borrow(self):\n",
    "        if self.__available:\n",
    "            self.__available = False\n",
    "            print(f\"The book '{self.__title}' by {self.__author} has been borrowed.\")\n",
    "        else:\n",
    "            print(f\"The book '{self.__title}' by {self.__author} is already borrowed.\")\n",
    "\n",
    "    def return_book(self):\n",
    "        if not self.__available:\n",
    "            self.__available = True\n",
    "            print(f\"The book '{self.__title}' by {self.__author} has been returned.\")\n",
    "        else:\n",
    "            print(f\"The book '{self.__title}' by {self.__author} is already available.\")\n",
    "\n",
    "# Example usage:\n",
    "book1 = Book(\"1984\", \"George Orwell\")\n",
    "book2 = Book(\"To Kill a Mockingbird\", \"Harper Lee\")\n",
    "\n",
    "# Accessing book information\n",
    "print(\"Book 1 Title:\", book1.get_title())        # Prints: 1984\n",
    "print(\"Book 1 Author:\", book1.get_author())      # Prints: George Orwell\n",
    "print(\"Book 1 Availability:\", book1.is_available())  # Prints: True\n",
    "\n",
    "# Borrowing and returning books\n",
    "book1.borrow()   # Borrowing book 1\n",
    "book1.return_book()   # Returning book 1\n",
    "\n",
    "# Attempting to borrow a book that is already borrowed\n",
    "book1.borrow()   # Attempting to borrow book 1 again\n"
   ]
  },
  {
   "cell_type": "code",
   "execution_count": 20,
   "id": "503315c2-b2ca-4833-bc11-2b73ff24e1de",
   "metadata": {},
   "outputs": [
    {
     "name": "stdout",
     "output_type": "stream",
     "text": [
      "The book 'Python Programming' by John Smith has been borrowed.\n",
      "The book 'Python Programming' has been returned.\n",
      "The book 'Data Structures' by Alice Johnson has been borrowed.\n",
      "The book 'Data Structures' is currently not available.\n"
     ]
    }
   ],
   "source": [
    "class Book:\n",
    "    def __init__(self, title, author):\n",
    "        self.title = title   # Public attribute\n",
    "        self.author = author   # Public attribute\n",
    "        self.__available = True   # Private attribute\n",
    "\n",
    "    def borrow_book(self):\n",
    "        if self.__available:\n",
    "            print(f\"The book '{self.title}' by {self.author} has been borrowed.\")\n",
    "            self.__available = False\n",
    "        else:\n",
    "            print(f\"The book '{self.title}' is currently not available.\")\n",
    "\n",
    "    def return_book(self):\n",
    "        self.__available = True\n",
    "        print(f\"The book '{self.title}' has been returned.\")\n",
    "\n",
    "# Creating instances of the Book class\n",
    "book1 = Book(\"Python Programming\", \"John Smith\")\n",
    "book2 = Book(\"Data Structures\", \"Alice Johnson\")\n",
    "\n",
    "# Borrowing and returning books\n",
    "book1.borrow_book()\n",
    "book1.return_book()\n",
    "book2.borrow_book()\n",
    "book2.borrow_book()\n"
   ]
  },
  {
   "cell_type": "code",
   "execution_count": 21,
   "id": "1ea8e745-2513-4166-8c2d-f91a6bcb01c1",
   "metadata": {},
   "outputs": [
    {
     "name": "stdout",
     "output_type": "stream",
     "text": [
      "Name: John Doe\n",
      "Address: 123 Main St, City, Country\n",
      "Contact: 123-456-7890\n",
      "Updated Name: Jane Doe\n",
      "Updated Address: 456 Elm St, Town, Country\n",
      "Updated Contact: 987-654-3210\n"
     ]
    }
   ],
   "source": [
    "class Customer:\n",
    "    def __init__(self, name, address, contact):\n",
    "        self.__name = name         # Private attribute\n",
    "        self.__address = address   # Private attribute\n",
    "        self.__contact = contact   # Private attribute\n",
    "\n",
    "    def get_name(self):\n",
    "        return self.__name\n",
    "\n",
    "    def set_name(self, name):\n",
    "        self.__name = name\n",
    "\n",
    "    def get_address(self):\n",
    "        return self.__address\n",
    "\n",
    "    def set_address(self, address):\n",
    "        self.__address = address\n",
    "\n",
    "    def get_contact(self):\n",
    "        return self.__contact\n",
    "\n",
    "    def set_contact(self, contact):\n",
    "        self.__contact = contact\n",
    "\n",
    "# Creating an instance of the Customer class\n",
    "customer = Customer(\"John Doe\", \"123 Main St, City, Country\", \"123-456-7890\")\n",
    "\n",
    "# Accessing customer details using accessor methods\n",
    "print(\"Name:\", customer.get_name())         # Prints: John Doe\n",
    "print(\"Address:\", customer.get_address())   # Prints: 123 Main St, City, Country\n",
    "print(\"Contact:\", customer.get_contact())   # Prints: 123-456-7890\n",
    "\n",
    "# Modifying customer details using mutator methods\n",
    "customer.set_name(\"Jane Doe\")\n",
    "customer.set_address(\"456 Elm St, Town, Country\")\n",
    "customer.set_contact(\"987-654-3210\")\n",
    "\n",
    "# Accessing modified customer details\n",
    "print(\"Updated Name:\", customer.get_name())         # Prints: Jane Doe\n",
    "print(\"Updated Address:\", customer.get_address())   # Prints: 456 Elm St, Town, Country\n",
    "print(\"Updated Contact:\", customer.get_contact())   # Prints: 987-654-3210\n"
   ]
  },
  {
   "cell_type": "code",
   "execution_count": null,
   "id": "4831230e-01f4-49c5-96e8-cbe603b9be23",
   "metadata": {},
   "outputs": [],
   "source": []
  }
 ],
 "metadata": {
  "kernelspec": {
   "display_name": "Python 3 (ipykernel)",
   "language": "python",
   "name": "python3"
  },
  "language_info": {
   "codemirror_mode": {
    "name": "ipython",
    "version": 3
   },
   "file_extension": ".py",
   "mimetype": "text/x-python",
   "name": "python",
   "nbconvert_exporter": "python",
   "pygments_lexer": "ipython3",
   "version": "3.11.7"
  }
 },
 "nbformat": 4,
 "nbformat_minor": 5
}
